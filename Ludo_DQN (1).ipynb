{
  "cells": [
    {
      "cell_type": "code",
      "execution_count": 1,
      "metadata": {},
      "outputs": [],
      "source": [
        "import numpy as np\n",
        "import gym\n",
        "from gym import spaces"
      ]
    },
    {
      "cell_type": "code",
      "execution_count": 2,
      "metadata": {
        "id": "Z3SEGvU7gKG3"
      },
      "outputs": [],
      "source": [
        "class LudoEnv(gym.Env):\n",
        "    def __init__(self):\n",
        "        super(LudoEnv, self).__init__()\n",
        "        self.num_pieces = 4\n",
        "        self.track_length = 57\n",
        "        self.action_space = spaces.Discrete(self.num_pieces)\n",
        "        self.observation_space = spaces.Box(low=0, high=self.track_length, shape=(8,), dtype=np.int32)\n",
        "        self.reset()\n",
        "\n",
        "    def reset(self):\n",
        "        self.positions = {\n",
        "            1: np.zeros(self.num_pieces, dtype=np.int32),\n",
        "            2: np.zeros(self.num_pieces, dtype=np.int32)\n",
        "        }\n",
        "        self.done = False\n",
        "        self.current_player = 1\n",
        "        return self._get_obs()\n",
        "\n",
        "    def _get_obs(self):\n",
        "        current = self.positions[self.current_player]\n",
        "        opponent = self.positions[3 - self.current_player]\n",
        "        return np.concatenate([current, opponent])\n",
        "    \n",
        "    def step(self, action):\n",
        "        if self.done:\n",
        "            return self._get_obs(), 0, True, False, {}\n",
        "\n",
        "        dice = np.random.randint(1, 7)\n",
        "        reward = 0\n",
        "        player = self.current_player\n",
        "\n",
        "        if self.positions[player][action] < self.track_length:\n",
        "            self.positions[player][action] += dice\n",
        "            if self.positions[player][action] >= self.track_length:\n",
        "                self.positions[player][action] = self.track_length\n",
        "                reward = 50\n",
        "            else:\n",
        "                reward = 1\n",
        "\n",
        "        if np.all(self.positions[player] >= self.track_length):\n",
        "            self.done = True\n",
        "            reward = 100\n",
        "\n",
        "        self.current_player = 3 - self.current_player\n",
        "        return self._get_obs(), reward, self.done, False, {}\n"
      ]
    },
    {
      "cell_type": "code",
      "execution_count": 3,
      "metadata": {},
      "outputs": [],
      "source": [
        "import torch\n",
        "import torch.nn as nn\n",
        "import torch.optim as optim\n",
        "\n",
        "\n",
        "class DQN(nn.Module):\n",
        "    # Initializes the neural network layers.\n",
        "    def __init__(self, state_size, action_size):\n",
        "        super(DQN, self).__init__()\n",
        "        self.fc1 = nn.Linear(state_size, 256) # First fully connected layer that maps state to 256 hidden units\n",
        "        self.fc2 = nn.Linear(256, 256) # Second fully connected layer that processes the 256 hidden units\n",
        "        self.fc3 = nn.Linear(256, action_size) # Output layer that maps to the Q-values of all possible actions\n",
        "\n",
        "    #  Defines the forward pass of the network.\n",
        "    def forward(self, state):\n",
        "        x = torch.relu(self.fc1(state)) # Apply ReLU activation to the output of the first layer\n",
        "        x = torch.relu(self.fc2(x)) # Apply ReLU activation to the output of the second layer\n",
        "        return self.fc3(x) # Output Q-values from the final layer "
      ]
    }
  ],
  "metadata": {
    "accelerator": "GPU",
    "colab": {
      "gpuType": "T4",
      "provenance": []
    },
    "kernelspec": {
      "display_name": "base",
      "language": "python",
      "name": "python3"
    },
    "language_info": {
      "codemirror_mode": {
        "name": "ipython",
        "version": 3
      },
      "file_extension": ".py",
      "mimetype": "text/x-python",
      "name": "python",
      "nbconvert_exporter": "python",
      "pygments_lexer": "ipython3",
      "version": "3.12.4"
    }
  },
  "nbformat": 4,
  "nbformat_minor": 0
}
