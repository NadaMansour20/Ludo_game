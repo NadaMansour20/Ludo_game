{
  "cells": [
    {
      "cell_type": "code",
      "execution_count": 1,
      "metadata": {},
      "outputs": [],
      "source": [
        "import numpy as np\n",
        "import gym\n",
        "from gym import spaces"
      ]
    },
    {
      "cell_type": "code",
      "execution_count": 2,
      "metadata": {
        "id": "Z3SEGvU7gKG3"
      },
      "outputs": [],
      "source": [
        "class LudoEnv(gym.Env):\n",
        "    def __init__(self):\n",
        "        super(LudoEnv, self).__init__()\n",
        "        self.num_pieces = 4\n",
        "        self.track_length = 57\n",
        "        self.action_space = spaces.Discrete(self.num_pieces)\n",
        "        self.observation_space = spaces.Box(low=0, high=self.track_length, shape=(8,), dtype=np.int32)\n",
        "        self.reset()\n",
        "\n",
        "    def reset(self):\n",
        "        self.positions = {\n",
        "            1: np.zeros(self.num_pieces, dtype=np.int32),\n",
        "            2: np.zeros(self.num_pieces, dtype=np.int32)\n",
        "        }\n",
        "        self.done = False\n",
        "        self.current_player = 1\n",
        "        return self._get_obs()\n",
        "\n",
        "    def _get_obs(self):\n",
        "        current = self.positions[self.current_player]\n",
        "        opponent = self.positions[3 - self.current_player]\n",
        "        return np.concatenate([current, opponent])\n",
        "    \n",
        "    def step(self, action):\n",
        "        if self.done:\n",
        "            return self._get_obs(), 0, True, False, {}\n",
        "\n",
        "        dice = np.random.randint(1, 7)\n",
        "        reward = 0\n",
        "        player = self.current_player\n",
        "\n",
        "        if self.positions[player][action] < self.track_length:\n",
        "            self.positions[player][action] += dice\n",
        "            if self.positions[player][action] >= self.track_length:\n",
        "                self.positions[player][action] = self.track_length\n",
        "                reward = 50\n",
        "            else:\n",
        "                reward = 1\n",
        "\n",
        "        if np.all(self.positions[player] >= self.track_length):\n",
        "            self.done = True\n",
        "            reward = 100\n",
        "\n",
        "        self.current_player = 3 - self.current_player\n",
        "        return self._get_obs(), reward, self.done, False, {}\n"
      ]
    }
  ],
  "metadata": {
    "accelerator": "GPU",
    "colab": {
      "gpuType": "T4",
      "provenance": []
    },
    "kernelspec": {
      "display_name": "base",
      "language": "python",
      "name": "python3"
    },
    "language_info": {
      "codemirror_mode": {
        "name": "ipython",
        "version": 3
      },
      "file_extension": ".py",
      "mimetype": "text/x-python",
      "name": "python",
      "nbconvert_exporter": "python",
      "pygments_lexer": "ipython3",
      "version": "3.11.7"
    }
  },
  "nbformat": 4,
  "nbformat_minor": 0
}
