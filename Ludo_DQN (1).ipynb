{
  "nbformat": 4,
  "nbformat_minor": 0,
  "metadata": {
    "colab": {
      "provenance": [],
      "gpuType": "T4"
    },
    "kernelspec": {
      "name": "python3",
      "display_name": "Python 3"
    },
    "language_info": {
      "name": "python"
    },
    "accelerator": "GPU"
  },
  "cells": [
    {
      "cell_type": "code",
      "source": [
        "import numpy as np\n",
        "import gym\n",
        "from gym import spaces\n",
        "\n",
        "class LudoEnv(gym.Env):\n",
        "    def __init__(self):\n",
        "        super(LudoEnv, self).__init__()\n",
        "        self.num_pieces = 4\n",
        "        self.track_length = 57\n",
        "        self.action_space = spaces.Discrete(self.num_pieces)\n",
        "        self.observation_space = spaces.Box(low=0, high=self.track_length, shape=(8,), dtype=np.int32)\n",
        "        self.reset()\n",
        "\n",
        "    def reset(self):\n",
        "        self.positions = {\n",
        "            1: np.zeros(self.num_pieces, dtype=np.int32),\n",
        "            2: np.zeros(self.num_pieces, dtype=np.int32)\n",
        "        }\n",
        "        self.done = False\n",
        "        self.current_player = 1\n",
        "        return self._get_obs()\n",
        "\n",
        "    def _get_obs(self):\n",
        "        current = self.positions[self.current_player]\n",
        "        opponent = self.positions[3 - self.current_player]\n",
        "        return np.concatenate([current, opponent])"
      ],
      "metadata": {
        "id": "Z3SEGvU7gKG3"
      },
      "execution_count": null,
      "outputs": []
    }
  ]
}