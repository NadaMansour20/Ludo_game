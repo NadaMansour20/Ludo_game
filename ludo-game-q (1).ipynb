{
 "cells": [
  {
   "cell_type": "code",
   "execution_count": null,
   "metadata": {
    "execution": {
     "iopub.execute_input": "2025-04-05T21:59:31.982416Z",
     "iopub.status.busy": "2025-04-05T21:59:31.982028Z",
     "iopub.status.idle": "2025-04-05T21:59:31.989592Z",
     "shell.execute_reply": "2025-04-05T21:59:31.988311Z",
     "shell.execute_reply.started": "2025-04-05T21:59:31.982386Z"
    },
    "trusted": true
   },
   "outputs": [],
   "source": [
    "class LudoEnv:\n",
    "    def __init__(self):\n",
    "        self.goal = 10\n",
    "        self.num_players = 2\n",
    "        self.pieces_per_player = 4\n",
    "        self.state = [[0] * self.pieces_per_player for _ in range(self.num_players)] # 2D list representing player`s pieces positions\n",
    "        self.current_player = 0  # The current player who is taking the turn (0 or 1)\n",
    "        self.done = False  # Game over flag \n",
    "        self.safe_spots = [5, 15, 25, 35, 45]  # List of safe spots where players can rest their pieces (not affected by other players)\n",
    "\n",
    "    def reset(self):\n",
    "        self.state = [[0] * self.pieces_per_player for _ in range(self.num_players)] # Reset the state for a new game, all pieces are at the starting position\n",
    "        self.current_player = 0\n",
    "        self.done = False\n",
    "        return self.get_state()\n",
    "\n",
    "    def get_state(self):\n",
    "        # Return the current state of the game(including each player's pieces positions & current player)\n",
    "        return tuple(tuple(player) for player in self.state), self.current_player\n",
    "    \n",
    "    def get_valid_actions(self):\n",
    "                # ترجع القطع التي يمكن تحريكها (أي التي لم تصل للهدف بعد)\n",
    "        return [i for i, pos in enumerate(self.state[self.current_player]) if pos < self.goal]\n",
    "\n",
    "    def move_piece(self, player, piece_index, steps):\n",
    "                # تحريك قطعة اللاعب بمقدار خطوات معينة\n",
    "        piece_position = self.state[player][piece_index] #الموضع الحالي للقطعة\n",
    "        new_position = piece_position + steps # الموضع الجديد بعد التحريك\n",
    "        \n",
    "        # تحقق من الأكل\n",
    "        opponent = 1 if player == 0 else 0 # تحديد اللاعب المنافس \n",
    "                # التحقق مما إذا تم ضرب قطعة للخصم في مكان غير آمن\n",
    "        for i in range(self.pieces_per_player):\n",
    "            if self.state[opponent][i] == new_position:\n",
    "                self.state[opponent][i] = 0  # إرجاع قطعة الخصم للبداية\n",
    "                return 20, -5  # زيادة المكافأة + عقوبة أقل للخصم\n",
    "\n",
    "        # تحقق من الخانات الآمنة\n",
    "        if new_position in self.safe_spots:\n",
    "            return 5, 0  # مكافأة صغيرة للوصول إلى خانة آمنة\n",
    "\n",
    "        if new_position == self.goal:  # إذا وصلت إلى الهدف\n",
    "            return 20, 0  # زيادة المكافأة\n",
    "\n",
    "        return 0, 0\n",
    "\n",
    "    def step(self, action):\n",
    "        dice_roll = random.randint(1, 6)\n",
    "        reward = 0\n",
    "        player_pieces = self.state[self.current_player]\n",
    "        \n",
    "        # تحريك القطعة\n",
    "        if player_pieces[action] < self.goal:\n",
    "                        # إذا كانت القطعة لم تصل للنهاية فقم بتحريكها\n",
    "            reward, penalty = self.move_piece(self.current_player, action, dice_roll)\n",
    "            player_pieces[action] = min(self.goal, player_pieces[action] + dice_roll)\n",
    "\n",
    "        # إذا تم أكل قطعة، إضافة العقوبة\n",
    "        reward -= penalty\n",
    "\n",
    "        # إذا كانت جميع القطع وصلت\n",
    "        if all(p == self.goal for p in player_pieces):#التحقق إذا فاز اللاعب\n",
    "            reward += 50\n",
    "            self.done = True\n",
    "\n",
    "        # تغيير الدور\n",
    "        self.current_player = 1 - self.current_player #تبديل الدور للاعب الآخر\n",
    "\n",
    "        return self.get_state(), reward, self.done\n",
    "        \n"
   ]
  },
  {
   "cell_type": "code",
   "execution_count": null,
   "metadata": {
    "trusted": true
   },
   "outputs": [],
   "source": []
  },
  {
   "cell_type": "code",
   "execution_count": null,
   "metadata": {
    "trusted": true
   },
   "outputs": [],
   "source": []
  },
  {
   "cell_type": "code",
   "execution_count": null,
   "metadata": {
    "trusted": true
   },
   "outputs": [],
   "source": []
  },
  {
   "cell_type": "code",
   "execution_count": null,
   "metadata": {
    "trusted": true
   },
   "outputs": [],
   "source": []
  }
 ],
 "metadata": {
  "kaggle": {
   "accelerator": "none",
   "dataSources": [],
   "dockerImageVersionId": 30918,
   "isGpuEnabled": false,
   "isInternetEnabled": true,
   "language": "python",
   "sourceType": "notebook"
  },
  "kernelspec": {
   "display_name": "Python 3",
   "language": "python",
   "name": "python3"
  },
  "language_info": {
   "codemirror_mode": {
    "name": "ipython",
    "version": 3
   },
   "file_extension": ".py",
   "mimetype": "text/x-python",
   "name": "python",
   "nbconvert_exporter": "python",
   "pygments_lexer": "ipython3",
   "version": "3.10.12"
  }
 },
 "nbformat": 4,
 "nbformat_minor": 4
}
